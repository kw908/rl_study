{
  "cells": [
    {
      "cell_type": "markdown",
      "metadata": {
        "colab_type": "text",
        "id": "view-in-github"
      },
      "source": [
        "<a href=\"https://colab.research.google.com/github/kw908/RL_doorkick/blob/main/Suttonbookexercise.ipynb\" target=\"_parent\"><img src=\"https://colab.research.google.com/assets/colab-badge.svg\" alt=\"Open In Colab\"/></a>"
      ]
    },
    {
      "cell_type": "markdown",
      "metadata": {},
      "source": [
        "Exercise 3.18 \\\\\n",
        "Relationship between $V^\\pi$ and $q^\\pi$:\n",
        "$$\n",
        "V^\\pi(s) = \\sum_{a \\in A} \\pi(a|s)q^\\pi(s,a)\n",
        "$$"
      ]
    },
    {
      "cell_type": "code",
      "execution_count": null,
      "metadata": {
        "colab": {
          "base_uri": "https://localhost:8080/"
        },
        "id": "OkptOwWpip1C",
        "outputId": "2b0f0221-5ebe-450a-c7ae-7f2478982252"
      },
      "outputs": [],
      "source": [
        "## Exercise 3.14\n",
        "\n",
        "import numpy as np\n",
        "\n",
        "neighbors = [(0,1.0,2.3),\n",
        "                   (0,1.0,0.4),\n",
        "                   (0,1.0,-0.4),\n",
        "                   (0,1.0,0.7)] # reward, probability, value(only accurate to one decimal place)\n",
        "policy = np.array([0.25,0.25,0.25,0.25])\n",
        "rewards = np.array([0,0,0,0])\n",
        "middle_value = 0.7\n",
        "gamma = 0.9\n",
        "v_pi_middle = 0\n",
        "state = [0,1]\n",
        "\n",
        "for pa,v in zip(policy,neighbors):\n",
        "       v_pi_middle += pa * v[1] * (v[0] + gamma*v[2])\n",
        "\n",
        "print(v_pi_middle) #should evaluate to near 0.7\n"
      ]
    },
    {
      "cell_type": "code",
      "execution_count": 3,
      "metadata": {},
      "outputs": [
        {
          "name": "stdout",
          "output_type": "stream",
          "text": [
            "Done update~~~\n",
            "Done update~~~\n",
            "Done update~~~\n",
            "Done value iteration~~~\n",
            "0 {'up': [1.0, 1.0, 0.0], 'down': [0, 1.0, 0.0], 'left': [0, 1.0, 0.0], 'right': [0, 1.0, 0.0]}\n",
            "1 {'up': [0, 1.0, -2.0], 'down': [0, 1.0, -3.0], 'left': [1.0, 1.0, -1.0], 'right': [0, 1.0, -3.0]}\n",
            "2 {'up': [0, 1.0, -3.0], 'down': [0, 1.0, -4.0], 'left': [1.0, 1.0, -2.0], 'right': [0, 1.0, -4.0]}\n",
            "3 {'up': [0, 1.0, -4.0], 'down': [1.0, 1.0, -3.0], 'left': [0, 1.0, -3.0], 'right': [0, 1.0, -4.0]}\n",
            "4 {'up': [1.0, 1.0, -1.0], 'down': [0, 1.0, -3.0], 'left': [0, 1.0, -2.0], 'right': [0, 1.0, -3.0]}\n",
            "5 {'up': [1.0, 1.0, -2.0], 'down': [0, 1.0, -4.0], 'left': [0, 1.0, -2.0], 'right': [0, 1.0, -4.0]}\n",
            "6 {'up': [1.0, 1.0, -3.0], 'down': [0, 1.0, -3.0], 'left': [0, 1.0, -3.0], 'right': [0, 1.0, -3.0]}\n",
            "7 {'up': [0, 1.0, -4.0], 'down': [1.0, 1.0, -2.0], 'left': [0, 1.0, -4.0], 'right': [0, 1.0, -3.0]}\n",
            "8 {'up': [1.0, 1.0, -2.0], 'down': [0, 1.0, -4.0], 'left': [0, 1.0, -3.0], 'right': [0, 1.0, -4.0]}\n",
            "9 {'up': [1.0, 1.0, -3.0], 'down': [0, 1.0, -3.0], 'left': [0, 1.0, -3.0], 'right': [0, 1.0, -3.0]}\n",
            "10 {'up': [0, 1.0, -4.0], 'down': [1.0, 1.0, -2.0], 'left': [0, 1.0, -4.0], 'right': [0, 1.0, -2.0]}\n",
            "11 {'up': [0, 1.0, -3.0], 'down': [1.0, 1.0, -1.0], 'left': [0, 1.0, -3.0], 'right': [0, 1.0, -2.0]}\n",
            "12 {'up': [1.0, 1.0, -3.0], 'down': [0, 1.0, -4.0], 'left': [0, 1.0, -4.0], 'right': [0, 1.0, -3.0]}\n",
            "13 {'up': [0, 1.0, -4.0], 'down': [0, 1.0, -3.0], 'left': [0, 1.0, -4.0], 'right': [1.0, 1.0, -2.0]}\n",
            "14 {'up': [0, 1.0, -3.0], 'down': [0, 1.0, -2.0], 'left': [0, 1.0, -3.0], 'right': [1.0, 1.0, -1.0]}\n",
            "15 {'up': [1.0, 1.0, 0.0], 'down': [0, 1.0, 0.0], 'left': [0, 1.0, 0.0], 'right': [0, 1.0, 0.0]}\n"
          ]
        }
      ],
      "source": [
        "## Example 4.1\n",
        "%reload_ext autoreload\n",
        "%autoreload 2\n",
        "\n",
        "from Environments import gridworld_v0 as gw\n",
        "\n",
        "THETA = 0.0001 #stop condition\n",
        "GAMMA = 1.0 #non-discounted\n",
        "episodes = 10 # number of episodes for policy evaluation\n",
        "iteration = 1\n",
        "\n",
        "env = gw.environment(sidelength=4,episodes=episodes) \n",
        "\n",
        "def policy_eval():\n",
        "    k=0\n",
        "    # for k in range(episodes):\n",
        "    while(True):\n",
        "        delta=0\n",
        "        for s in env.states:\n",
        "            v=s.value[k]\n",
        "            for a in env.actions:\n",
        "                next_state_value, reward = env.step(s,a,k)\n",
        "                s.policy[a][2] = s.policy[a][1] * (reward + GAMMA*(next_state_value)) # calculate q\n",
        "                s.value[k+1] += s.policy[a][0] * s.policy[a][2] # calculate v\n",
        "            delta = max(delta, abs(v-s.value[k+1]))\n",
        "        if delta<THETA or k==episodes: \n",
        "            print(\"Done evaluation~~~\")\n",
        "            return k\n",
        "        k+=1\n",
        "\n",
        "def policy_imp(k_terminal):\n",
        "    for s in env.states:\n",
        "        a_opt = []\n",
        "        for a in env.actions:\n",
        "            next_state_value, reward = env.step(s,a,k_terminal)\n",
        "            s.policy[a][2] = s.policy[a][1] * (reward + GAMMA*(next_state_value))\n",
        "        # update policy\n",
        "        for a in env.actions:\n",
        "            if s.policy[a][2] == max([i[2] for i in s.policy.values()]):\n",
        "                a_opt.append(a) #find optimal action(s)\n",
        "        for a in env.actions:\n",
        "            if a in a_opt:\n",
        "                s.policy[a][0] = 1/len(a_opt) #equally distribute probabilities among optimal actions\n",
        "            else:\n",
        "                s.policy[a][0] = 0\n",
        "    print(\"Done update~~~\")\n",
        "\n",
        "\n",
        "def value_iter():\n",
        "   k=0\n",
        "   while(True):\n",
        "        delta=0\n",
        "        for s in env.states:\n",
        "            v=s.value[k]\n",
        "            for a in env.actions:\n",
        "                next_state_value, reward = env.step(s,a,k)\n",
        "                s.policy[a][2] = s.policy[a][1] * (reward + GAMMA*(next_state_value)) # calculate q\n",
        "            s.value[k+1] = max([i[2] for i in s.policy.values()]) # update value with optimal policy in one sweep\n",
        "            delta = max(delta, abs(v-s.value[k+1]))\n",
        "        if delta<THETA or k==episodes: \n",
        "            print(\"Done value iteration~~~\")\n",
        "            break\n",
        "        k+=1\n",
        "\n",
        "        #update policy\n",
        "        for s in env.states:\n",
        "            for a in env.actions:\n",
        "                next_state_value, reward = env.step(s,a,k)\n",
        "                s.policy[a][2] = s.policy[a][1] * (reward + GAMMA*(next_state_value))\n",
        "            # update policy\n",
        "            for a in env.actions:\n",
        "                if s.policy[a][2] == max([i[2] for i in s.policy.values()]):\n",
        "                    a_opt = a\n",
        "                    s.policy[a][0] = 1.0 #find optimal action\n",
        "                    break   \n",
        "            for a in env.actions:\n",
        "                if a is not a_opt:\n",
        "                    s.policy[a][0] = 0 \n",
        "        print(\"Done update~~~\")\n",
        "       \n",
        "\n",
        "# for i in range(iteration):\n",
        "#     k_terminal = policy_eval()\n",
        "#     policy_imp(k_terminal)\n",
        "\n",
        "value_iter()\n",
        "\n",
        "i = 0\n",
        "for s in env.states:\n",
        "    print(i, s.policy)\n",
        "    i+=1\n",
        "\n",
        "#visualize it~~\n",
        "env.render()\n",
        "\n",
        "       \n",
        "\n"
      ]
    }
  ],
  "metadata": {
    "colab": {
      "authorship_tag": "ABX9TyOiRQsR31ww1zeO93G2UFLA",
      "include_colab_link": true,
      "provenance": []
    },
    "kernelspec": {
      "display_name": "Python 3",
      "name": "python3"
    },
    "language_info": {
      "codemirror_mode": {
        "name": "ipython",
        "version": 3
      },
      "file_extension": ".py",
      "mimetype": "text/x-python",
      "name": "python",
      "nbconvert_exporter": "python",
      "pygments_lexer": "ipython3",
      "version": "3.10.8"
    }
  },
  "nbformat": 4,
  "nbformat_minor": 0
}
