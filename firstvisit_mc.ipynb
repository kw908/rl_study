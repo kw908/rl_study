{
 "cells": [
  {
   "cell_type": "code",
   "execution_count": 15,
   "metadata": {},
   "outputs": [
    {
     "ename": "IndexError",
     "evalue": "list index out of range",
     "output_type": "error",
     "traceback": [
      "\u001b[1;31m---------------------------------------------------------------------------\u001b[0m",
      "\u001b[1;31mIndexError\u001b[0m                                Traceback (most recent call last)",
      "\u001b[1;32mc:\\Graduate\\MASc\\RL\\RL_doorkick\\Firstvisit_MC.ipynb Cell 1\u001b[0m line \u001b[0;36m<cell line: 15>\u001b[1;34m()\u001b[0m\n\u001b[0;32m     <a href='vscode-notebook-cell:/c%3A/Graduate/MASc/RL/RL_doorkick/Firstvisit_MC.ipynb#W0sZmlsZQ%3D%3D?line=19'>20</a>\u001b[0m \u001b[39mfor\u001b[39;00m s \u001b[39min\u001b[39;00m env\u001b[39m.\u001b[39mstates_in_episode:\n\u001b[0;32m     <a href='vscode-notebook-cell:/c%3A/Graduate/MASc/RL/RL_doorkick/Firstvisit_MC.ipynb#W0sZmlsZQ%3D%3D?line=20'>21</a>\u001b[0m     \u001b[39mfor\u001b[39;00m t \u001b[39min\u001b[39;00m \u001b[39mrange\u001b[39m(T\u001b[39m-\u001b[39m\u001b[39m2\u001b[39m,\u001b[39m-\u001b[39m\u001b[39m1\u001b[39m,\u001b[39m-\u001b[39m\u001b[39m1\u001b[39m): \u001b[39m#T-2,...,0,inclusive\u001b[39;00m\n\u001b[1;32m---> <a href='vscode-notebook-cell:/c%3A/Graduate/MASc/RL/RL_doorkick/Firstvisit_MC.ipynb#W0sZmlsZQ%3D%3D?line=21'>22</a>\u001b[0m         \u001b[39mif\u001b[39;00m env\u001b[39m.\u001b[39;49mstates_in_episode[t\u001b[39m+\u001b[39;49m\u001b[39m1\u001b[39;49m] \u001b[39m!=\u001b[39m s:\n\u001b[0;32m     <a href='vscode-notebook-cell:/c%3A/Graduate/MASc/RL/RL_doorkick/Firstvisit_MC.ipynb#W0sZmlsZQ%3D%3D?line=22'>23</a>\u001b[0m             G \u001b[39m=\u001b[39m GAMMA\u001b[39m*\u001b[39mG \u001b[39m+\u001b[39m env\u001b[39m.\u001b[39mrewards_in_episode[t\u001b[39m+\u001b[39m\u001b[39m1\u001b[39m]\n\u001b[0;32m     <a href='vscode-notebook-cell:/c%3A/Graduate/MASc/RL/RL_doorkick/Firstvisit_MC.ipynb#W0sZmlsZQ%3D%3D?line=23'>24</a>\u001b[0m             \u001b[39m# if env.rewards_in_episode[t+1] == 1:\u001b[39;00m\n\u001b[0;32m     <a href='vscode-notebook-cell:/c%3A/Graduate/MASc/RL/RL_doorkick/Firstvisit_MC.ipynb#W0sZmlsZQ%3D%3D?line=24'>25</a>\u001b[0m             \u001b[39m#     print(s)\u001b[39;00m\n\u001b[0;32m     <a href='vscode-notebook-cell:/c%3A/Graduate/MASc/RL/RL_doorkick/Firstvisit_MC.ipynb#W0sZmlsZQ%3D%3D?line=25'>26</a>\u001b[0m         \u001b[39melse\u001b[39;00m:\n",
      "\u001b[1;31mIndexError\u001b[0m: list index out of range"
     ]
    }
   ],
   "source": [
    "%reload_ext autoreload\n",
    "%autoreload 2\n",
    "\n",
    "from Environments import blackjack_v0 as bj\n",
    "import numpy as np\n",
    "\n",
    "env = bj.environment()\n",
    "G = 0\n",
    "iteration = 0\n",
    "episodes = 10000\n",
    "GAMMA = 1.0\n",
    "V = 0 #state-value function\n",
    "T = 0\n",
    "\n",
    "while True:\n",
    "    term_reward = env.game()\n",
    "    T = len(env.rewards_in_episode)\n",
    "    G = 0\n",
    "    \n",
    "    for s in env.states_in_episode:\n",
    "        for t in range(T-2,-1,-1): #T-2,...,0,inclusive\n",
    "            if env.states_in_episode[t] != s:\n",
    "                G = GAMMA*G + env.rewards_in_episode[t+1]\n",
    "            else:\n",
    "                if G == 1:\n",
    "                    print(s)\n",
    "                env.states[s][1].append(G) \n",
    "                env.states[s][0] = np.mean(env.states[s][1])\n",
    "                break\n",
    "    env.reset()\n",
    "    iteration+=1\n",
    "\n",
    "    if iteration == episodes:\n",
    "        break\n",
    "\n",
    "V = []\n",
    "# for s in env.states.items():\n",
    "#     if s[0][2] == False:\n",
    "#         print(s[0],s[1][0])\n",
    "\n",
    "\n",
    "\n",
    "\n",
    "# env = bj.environment()\n",
    "\n",
    "\n"
   ]
  }
 ],
 "metadata": {
  "kernelspec": {
   "display_name": "Python 3",
   "language": "python",
   "name": "python3"
  },
  "language_info": {
   "codemirror_mode": {
    "name": "ipython",
    "version": 3
   },
   "file_extension": ".py",
   "mimetype": "text/x-python",
   "name": "python",
   "nbconvert_exporter": "python",
   "pygments_lexer": "ipython3",
   "version": "3.10.8"
  }
 },
 "nbformat": 4,
 "nbformat_minor": 2
}
