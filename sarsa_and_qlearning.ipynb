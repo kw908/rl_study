{
 "cells": [
  {
   "cell_type": "code",
   "execution_count": 1,
   "metadata": {},
   "outputs": [
    {
     "name": "stderr",
     "output_type": "stream",
     "text": [
      "/home/offroad/.local/lib/python3.10/site-packages/gym/utils/passive_env_checker.py:233: DeprecationWarning: `np.bool8` is a deprecated alias for `np.bool_`.  (Deprecated NumPy 1.24)\n",
      "  if not isinstance(terminated, (bool, np.bool8)):\n"
     ]
    },
    {
     "name": "stdout",
     "output_type": "stream",
     "text": [
      "SARSA average success rate: 0.0\n",
      "Q-learning average success rate: 0.83\n"
     ]
    }
   ],
   "source": [
    "import gym\n",
    "import numpy as np\n",
    "import random\n",
    "from collections import defaultdict\n",
    "\n",
    "env = gym.make(\"FrozenLake-v1\", is_slippery=True)  # stochastic version\n",
    "\n",
    "# Hyperparameters\n",
    "alpha = 0.1\n",
    "gamma = 0.99\n",
    "epsilon = 0.1\n",
    "episodes = 10000\n",
    "max_steps = 100\n",
    "\n",
    "def epsilon_greedy(Q, state, n_actions):\n",
    "    if random.random() < epsilon:\n",
    "        return random.randint(0, n_actions - 1)\n",
    "    else:\n",
    "        return np.argmax(Q[state])\n",
    "\n",
    "# Create Q-table\n",
    "def create_Q():\n",
    "    return defaultdict(lambda: np.zeros(env.action_space.n))\n",
    "\n",
    "# --- SARSA ---\n",
    "def train_sarsa():\n",
    "    Q = create_Q()\n",
    "    for ep in range(episodes):\n",
    "        state = env.reset()[0]\n",
    "        action = epsilon_greedy(Q, state, env.action_space.n)\n",
    "\n",
    "        for _ in range(max_steps):\n",
    "            next_state, reward, done, _, _ = env.step(action)\n",
    "            next_action = epsilon_greedy(Q, next_state, env.action_space.n)\n",
    "\n",
    "            td_target = reward + gamma * Q[next_state][next_action]\n",
    "            td_error = td_target - Q[state][action]\n",
    "            Q[state][action] += alpha * td_error\n",
    "\n",
    "            state, action = next_state, next_action\n",
    "            if done:\n",
    "                break\n",
    "    return Q\n",
    "\n",
    "# --- Q-learning ---\n",
    "def train_q_learning():\n",
    "    Q = create_Q()\n",
    "    for ep in range(episodes):\n",
    "        state = env.reset()[0]\n",
    "\n",
    "        for _ in range(max_steps):\n",
    "            action = epsilon_greedy(Q, state, env.action_space.n)\n",
    "            next_state, reward, done, _, _ = env.step(action)\n",
    "\n",
    "            best_next = np.max(Q[next_state])\n",
    "            td_target = reward + gamma * best_next\n",
    "            td_error = td_target - Q[state][action]\n",
    "            Q[state][action] += alpha * td_error\n",
    "\n",
    "            state = next_state\n",
    "            if done:\n",
    "                break\n",
    "    return Q\n",
    "\n",
    "# Evaluate policy\n",
    "def evaluate(Q):\n",
    "    total_reward = 0\n",
    "    episodes_eval = 100\n",
    "    for _ in range(episodes_eval):\n",
    "        state = env.reset()[0]\n",
    "        done = False\n",
    "        while not done:\n",
    "            action = np.argmax(Q[state])\n",
    "            state, reward, done, _, _ = env.step(action)\n",
    "            total_reward += reward\n",
    "    return total_reward / episodes_eval\n",
    "\n",
    "# Run both\n",
    "Q_sarsa = train_sarsa()\n",
    "Q_qlearn = train_q_learning()\n",
    "\n",
    "print(\"SARSA average success rate:\", evaluate(Q_sarsa))\n",
    "print(\"Q-learning average success rate:\", evaluate(Q_qlearn))\n"
   ]
  }
 ],
 "metadata": {
  "kernelspec": {
   "display_name": "Python 3",
   "language": "python",
   "name": "python3"
  },
  "language_info": {
   "codemirror_mode": {
    "name": "ipython",
    "version": 3
   },
   "file_extension": ".py",
   "mimetype": "text/x-python",
   "name": "python",
   "nbconvert_exporter": "python",
   "pygments_lexer": "ipython3",
   "version": "3.10.12"
  }
 },
 "nbformat": 4,
 "nbformat_minor": 2
}
